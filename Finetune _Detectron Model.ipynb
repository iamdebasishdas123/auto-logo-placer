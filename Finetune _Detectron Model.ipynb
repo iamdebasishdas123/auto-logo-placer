{
 "cells": [
  {
   "cell_type": "markdown",
   "id": "715ab482",
   "metadata": {},
   "source": [
    "# Step-1: Required Modules "
   ]
  },
  {
   "cell_type": "code",
   "execution_count": null,
   "id": "19dd407c",
   "metadata": {
    "colab": {
     "base_uri": "https://localhost:8080/"
    },
    "id": "dP2brsFLEN4U",
    "outputId": "49156143-01d5-4d54-e2dc-937d452e9182",
    "papermill": {
     "duration": null,
     "end_time": null,
     "exception": null,
     "start_time": null,
     "status": "pending"
    },
    "tags": []
   },
   "outputs": [],
   "source": [
    "!python -m pip install pyyaml==5.1\n",
    "\n",
    "!python -m pip install 'git+https://github.com/facebookresearch/detectron2.git'"
   ]
  },
  {
   "cell_type": "code",
   "execution_count": null,
   "id": "8d339557",
   "metadata": {
    "id": "3zx6noBKmoUU",
    "papermill": {
     "duration": null,
     "end_time": null,
     "exception": null,
     "start_time": null,
     "status": "pending"
    },
    "tags": []
   },
   "outputs": [],
   "source": [
    "# Step 1: Install and import required libraries\n",
    "\n",
    "import detectron2\n",
    "\n",
    "from detectron2.utils.logger import setup_logger\n",
    "setup_logger()\n",
    "\n",
    "# Imports\n",
    "import os\n",
    "import cv2\n",
    "import random\n",
    "import torch\n",
    "import numpy as np\n",
    "import matplotlib.pyplot as plt\n",
    "\n",
    "from detectron2 import model_zoo\n",
    "from detectron2.engine import DefaultTrainer, DefaultPredictor\n",
    "from detectron2.config import get_cfg\n",
    "from detectron2.utils.visualizer import Visualizer\n",
    "from detectron2.data.datasets import register_coco_instances\n",
    "from detectron2.data import MetadataCatalog, DatasetCatalog\n",
    "\n"
   ]
  },
  {
   "cell_type": "markdown",
   "id": "6ccf821c",
   "metadata": {},
   "source": [
    "# Step 2: Register your dataset\n",
    "![Alt text for the image](assets\\image.png)"
   ]
  },
  {
   "cell_type": "code",
   "execution_count": null,
   "id": "5f56d2c2",
   "metadata": {
    "id": "rhuYBoykm6FT",
    "papermill": {
     "duration": null,
     "end_time": null,
     "exception": null,
     "start_time": null,
     "status": "pending"
    },
    "tags": []
   },
   "outputs": [],
   "source": [
    "# Step 2: Register your dataset\n",
    "\n",
    "# Path to your main dataset directory\n",
    "data_dir = \"/content/drive/MyDrive/Sample Data\"  # Change this to your dataset path\n",
    "\n",
    "\n",
    "# Register the training dataset\n",
    "register_coco_instances(\n",
    "    \"logo_train1\",                         # Name for the dataset\n",
    "    {},                                    # No additional metadata\n",
    "    f\"{data_dir}/Annotations/train.json\",  # Path to annotation JSON\n",
    "    f\"{data_dir}/train/tshirt\"             # Path to training images\n",
    ")\n",
    "\n",
    "# Register the validation dataset\n",
    "register_coco_instances(\n",
    "    \"logo_val1\",                           # Name for the validation dataset\n",
    "    {},                                    # No additional metadata\n",
    "    f\"{data_dir}/Annotations/val.json\",    # Path to annotation JSON\n",
    "    f\"{data_dir}/validation/val\"           # Path to validation images\n",
    ")\n"
   ]
  },
  {
   "cell_type": "code",
   "execution_count": null,
   "id": "47dd54de",
   "metadata": {},
   "outputs": [],
   "source": [
    "from detectron2.data import MetadataCatalog, DatasetCatalog\n",
    "print(\"Train samples:\", len(DatasetCatalog.get(\"logo_train1\")))\n",
    "print(\"Val samples:\", len(DatasetCatalog.get(\"logo_val1\")))\n"
   ]
  },
  {
   "cell_type": "markdown",
   "id": "7581e791",
   "metadata": {},
   "source": [
    "# Step 3: Configuration"
   ]
  },
  {
   "cell_type": "code",
   "execution_count": null,
   "id": "a4b783cd",
   "metadata": {
    "id": "n6QwLKMp82aD",
    "papermill": {
     "duration": null,
     "end_time": null,
     "exception": null,
     "start_time": null,
     "status": "pending"
    },
    "tags": []
   },
   "outputs": [],
   "source": [
    "# Step 3: Configuration\n",
    "cfg = get_cfg()\n",
    "cfg.merge_from_file(model_zoo.get_config_file(\"COCO-Detection/faster_rcnn_R_50_FPN_3x.yaml\"))\n",
    "\n",
    "cfg.DATASETS.TRAIN = (\"logo_train1\",)\n",
    "cfg.DATASETS.TEST = (\"logo_val1\",)\n",
    "cfg.DATALOADER.NUM_WORKERS = 1\n",
    "\n",
    "cfg.SOLVER.IMS_PER_BATCH = 4\n",
    "cfg.SOLVER.BASE_LR = 0.005\n",
    "cfg.SOLVER.MAX_ITER = 100  # increase this if needed\n",
    "cfg.MODEL.ROI_HEADS.BATCH_SIZE_PER_IMAGE = 128\n",
    "cfg.MODEL.ROI_HEADS.NUM_CLASSES = 6  # Set this correctly\n",
    "cfg.OUTPUT_DIR = \"./output\"\n",
    "os.makedirs(cfg.OUTPUT_DIR, exist_ok=True)\n"
   ]
  },
  {
   "cell_type": "markdown",
   "id": "a5f74a74",
   "metadata": {},
   "source": [
    "# Step 4: Start Training"
   ]
  },
  {
   "cell_type": "code",
   "execution_count": null,
   "id": "261fe162",
   "metadata": {
    "colab": {
     "base_uri": "https://localhost:8080/",
     "height": 356
    },
    "id": "JbPPLVffFTXf",
    "outputId": "61be83c2-fd39-45a9-faac-01308d8d15c0",
    "papermill": {
     "duration": null,
     "end_time": null,
     "exception": null,
     "start_time": null,
     "status": "pending"
    },
    "tags": []
   },
   "outputs": [],
   "source": [
    "# Step 4: Start Training\n",
    "trainer = DefaultTrainer(cfg)\n",
    "trainer.resume_or_load(resume=False)\n",
    "trainer.train()\n"
   ]
  },
  {
   "cell_type": "markdown",
   "id": "96192467",
   "metadata": {},
   "source": [
    "# Testing "
   ]
  },
  {
   "cell_type": "code",
   "execution_count": null,
   "id": "ce7a7115",
   "metadata": {
    "colab": {
     "base_uri": "https://localhost:8080/",
     "height": 948
    },
    "id": "fgb0zYsVFpuz",
    "outputId": "9f2c507e-d836-4806-994a-2d65e8a30df5",
    "papermill": {
     "duration": null,
     "end_time": null,
     "exception": null,
     "start_time": null,
     "status": "pending"
    },
    "tags": []
   },
   "outputs": [],
   "source": [
    "# Load the trained model\n",
    "cfg.MODEL.WEIGHTS = os.path.join(cfg.OUTPUT_DIR, \"model_final.pth\")\n",
    "cfg.MODEL.ROI_HEADS.SCORE_THRESH_TEST = 0.5\n",
    "predictor = DefaultPredictor(cfg)\n",
    "\n",
    "# Visualize\n",
    "val_metadata = MetadataCatalog.get(\"logo_val1\")\n",
    "# image_path = f\"{data_dir}/validation/val/tshirt_125.jpg\"\n",
    "# # replace with your image\n",
    "image_path = f\"/content/tshirt_032.jpg\"\n",
    "im = cv2.imread(image_path)\n",
    "outputs = predictor(im)\n",
    "print(outputs)\n",
    "\n",
    "v = Visualizer(im[:, :, ::-1], metadata=val_metadata, scale=1.2)\n",
    "out = v.draw_instance_predictions(outputs[\"instances\"].to(\"cpu\"))\n",
    "\n",
    "plt.figure(figsize=(10,10))\n",
    "plt.imshow(out.get_image()[:, :, ::-1])\n",
    "plt.axis(\"off\")\n",
    "plt.show()\n"
   ]
  }
 ],
 "metadata": {
  "accelerator": "GPU",
  "colab": {
   "gpuType": "T4",
   "provenance": []
  },
  "kernelspec": {
   "display_name": "Python 3",
   "name": "python3"
  },
  "language_info": {
   "codemirror_mode": {
    "name": "ipython",
    "version": 3
   },
   "file_extension": ".py",
   "mimetype": "text/x-python",
   "name": "python",
   "nbconvert_exporter": "python",
   "pygments_lexer": "ipython3",
   "version": "3.11.11"
  },
  "papermill": {
   "default_parameters": {},
   "duration": 5.655281,
   "end_time": "2025-06-13T07:23:17.742317",
   "environment_variables": {},
   "exception": true,
   "input_path": "__notebook__.ipynb",
   "output_path": "__notebook__.ipynb",
   "parameters": {},
   "start_time": "2025-06-13T07:23:12.087036",
   "version": "2.6.0"
  }
 },
 "nbformat": 4,
 "nbformat_minor": 5
}
